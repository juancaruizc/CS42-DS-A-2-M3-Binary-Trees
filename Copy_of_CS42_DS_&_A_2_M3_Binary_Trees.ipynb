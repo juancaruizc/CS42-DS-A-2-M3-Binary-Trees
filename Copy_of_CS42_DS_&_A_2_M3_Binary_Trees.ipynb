{
  "nbformat": 4,
  "nbformat_minor": 0,
  "metadata": {
    "colab": {
      "name": "Copy of CS42: DS & A 2: M3: Binary Trees",
      "provenance": [],
      "include_colab_link": true
    },
    "kernelspec": {
      "name": "python3",
      "display_name": "Python 3"
    },
    "language_info": {
      "name": "python"
    }
  },
  "cells": [
    {
      "cell_type": "markdown",
      "metadata": {
        "id": "view-in-github",
        "colab_type": "text"
      },
      "source": [
        "<a href=\"https://colab.research.google.com/github/juancaruizc/CS42-DS-A-2-M3-Binary-Trees/blob/main/Copy_of_CS42_DS_%26_A_2_M3_Binary_Trees.ipynb\" target=\"_parent\"><img src=\"https://colab.research.google.com/assets/colab-badge.svg\" alt=\"Open In Colab\"/></a>"
      ]
    },
    {
      "cell_type": "markdown",
      "metadata": {
        "id": "mHHytLR8Kz2L"
      },
      "source": [
        "# Binary Trees\n",
        "\n",
        "**Attendance code: 8506**\n",
        "\n",
        "* Binary tree characteristics\n",
        "* Binary Search Tree (BST) characteristics\n",
        "* Building a tree\n",
        "* Searching a tree\n",
        "* Time complexity characteristics\n",
        "* Recursive algorithms and linked lists\n",
        "* Recursive algorithms and binary trees\n",
        "* Max depth of a tree\n",
        "* Time permitting: is a binary tree a BST?\n"
      ]
    },
    {
      "cell_type": "markdown",
      "metadata": {
        "id": "VtOUR-VOO8R9"
      },
      "source": [
        "# Building a tree\n",
        "\n",
        "```\n",
        "5 8 2 9 4 7 3\n",
        "```\n",
        "\n",
        "```\n",
        "2 3 4 5 7 8 9\n",
        "```\n",
        "\n",
        "```\n",
        "if the root is empty:\n",
        "    root is the new node\n",
        "    return\n",
        "\n",
        "walk down the tree looking for the place to insert the new node\n",
        "walk left if the new node's value is < the current node\n",
        "walk right if the new node's value is > the current node\n",
        "\n",
        "when walking left or right would get us to a `None` node, insert the new node there\n",
        "```\n",
        "\n"
      ]
    },
    {
      "cell_type": "markdown",
      "metadata": {
        "id": "v8mBytxrS7yc"
      },
      "source": [
        "# Searching the tree\n",
        "\n",
        "```\n",
        "start at the root\n",
        "\n",
        "walk left or right depending on if the value we're searching for is < or > the current value\n",
        "\n",
        "If we find it, return it\n",
        "\n",
        "If we don't, return `None`\n",
        "```"
      ]
    },
    {
      "cell_type": "code",
      "metadata": {
        "colab": {
          "base_uri": "https://localhost:8080/"
        },
        "id": "4cfaB4OpKveD",
        "outputId": "75d1f93d-a278-4d51-cb25-6067c2eaa1b9"
      },
      "source": [
        "depth = 100\n",
        "num_nodes = 2**depth - 1\n",
        "\n",
        "print(num_nodes)"
      ],
      "execution_count": null,
      "outputs": [
        {
          "output_type": "stream",
          "text": [
            "1267650600228229401496703205375\n"
          ],
          "name": "stdout"
        }
      ]
    },
    {
      "cell_type": "code",
      "metadata": {
        "colab": {
          "base_uri": "https://localhost:8080/"
        },
        "id": "YUlQ8-X9XOns",
        "outputId": "a24c2f21-d91a-42a6-f219-086041196083"
      },
      "source": [
        "class ListNode:\n",
        "    def __init__(self, value):\n",
        "        self.value = value\n",
        "        self.next = None\n",
        "\n",
        "class TreeNode:\n",
        "    def __init__(self, value):\n",
        "        self.value = value\n",
        "        self.left = None\n",
        "        self.right = None\n",
        "\n",
        "    def __repr__(self):  # make it print nicely\n",
        "        return f\"TreeNode({repr(self.value)})\"\n",
        "\n",
        "class BST:\n",
        "    def __init__(self):\n",
        "        self.root = None\n",
        "\n",
        "    def insert(self, n):\n",
        "        # Special case: insert on an empty tree\n",
        "        if self.root is None:\n",
        "            self.root = n\n",
        "            return\n",
        "\n",
        "        # General: insert on a non-empty tree\n",
        "        cur = self.root\n",
        "\n",
        "        while cur is not None:\n",
        "            \n",
        "            if n.value < cur.value:  # go left\n",
        "                next_cur = cur.left\n",
        "\n",
        "                # If we found a None node to the left, that's\n",
        "                # where the new node goes\n",
        "                if next_cur is None:\n",
        "                    cur.left = n\n",
        "\n",
        "            else: # go right (assume no duplicate values)\n",
        "                next_cur = cur.right\n",
        "\n",
        "                # If we found a None node to the right, that's\n",
        "                # where the new node goes\n",
        "                if next_cur is None:\n",
        "                    cur.right = n\n",
        "\n",
        "            cur = next_cur\n",
        "\n",
        "    def search(self, value):\n",
        "        cur = self.root\n",
        "\n",
        "        steps = 0\n",
        "\n",
        "        while cur is not None:\n",
        "            steps += 1\n",
        "            if value < cur.value:\n",
        "                cur = cur.left\n",
        "            elif value > cur.value:\n",
        "                cur = cur.right\n",
        "            else:  # they're equal!\n",
        "                print(f\"Found it steps: {steps}\")\n",
        "                return cur\n",
        "\n",
        "        # If we got here, we didn't find it\n",
        "        print(f\"Didn't find it steps: {steps}\")\n",
        "        return None\n",
        "\n",
        "\n",
        "        \"\"\"\n",
        "        # Linked-list equivalent\n",
        "\n",
        "        cur = self.head\n",
        "\n",
        "        while cur is not None:\n",
        "            if value != cur.value:\n",
        "                cur = cur.next\n",
        "            else:\n",
        "                return cur\n",
        "        \"\"\"\n",
        "\n",
        "bst = BST()\n",
        "\n",
        "bst.insert(TreeNode(5))\n",
        "bst.insert(TreeNode(3))\n",
        "bst.insert(TreeNode(7))\n",
        "bst.insert(TreeNode(9))\n",
        "\n",
        "#print(bst.root.value)\n",
        "#print(bst.root.left.value, bst.root.right.value)\n",
        "#print(bst.root.right.right.value)\n",
        "\n",
        "print(bst.search(7))\n",
        "print(bst.search(9))\n",
        "print(bst.search(3))\n",
        "print(bst.search(5))\n",
        "print(bst.search(99))"
      ],
      "execution_count": null,
      "outputs": [
        {
          "output_type": "stream",
          "text": [
            "Found it steps: 2\n",
            "TreeNode(7)\n",
            "Found it steps: 3\n",
            "TreeNode(9)\n",
            "Found it steps: 2\n",
            "TreeNode(3)\n",
            "Found it steps: 1\n",
            "TreeNode(5)\n",
            "Didn't find it steps: 3\n",
            "None\n"
          ],
          "name": "stdout"
        }
      ]
    },
    {
      "cell_type": "code",
      "metadata": {
        "colab": {
          "base_uri": "https://localhost:8080/"
        },
        "id": "j-039Wf-dW4D",
        "outputId": "aff3ac6d-0c72-4228-9210-04c0ac2c6b29"
      },
      "source": [
        "bst = BST()\n",
        "\n",
        "num_count= 100000\n",
        "\n",
        "print(\"Building random list...\")\n",
        "nums = list(range(num_count))\n",
        "\n",
        "import random\n",
        "\n",
        "random.shuffle(nums)\n",
        "\n",
        "print(\"Inserting values...\")\n",
        "for n in nums:\n",
        "    bst.insert(TreeNode(n))\n",
        "\n",
        "import math\n",
        "\n",
        "print(\"Searching...\")\n",
        "print(f\"Max searches should be {math.log(num_count, 2)}, rounded up\")\n",
        "for i in range(10):\n",
        "    print(bst.search(i))\n",
        "\n",
        "print(bst.search(-1))"
      ],
      "execution_count": null,
      "outputs": [
        {
          "output_type": "stream",
          "text": [
            "Building random list...\n",
            "Inserting values...\n",
            "Searching...\n",
            "Max searches should be 16.609640474436812, rounded up\n",
            "Found it steps: 7\n",
            "TreeNode(0)\n",
            "Found it steps: 6\n",
            "TreeNode(1)\n",
            "Found it steps: 10\n",
            "TreeNode(2)\n",
            "Found it steps: 9\n",
            "TreeNode(3)\n",
            "Found it steps: 8\n",
            "TreeNode(4)\n",
            "Found it steps: 7\n",
            "TreeNode(5)\n",
            "Found it steps: 5\n",
            "TreeNode(6)\n",
            "Found it steps: 13\n",
            "TreeNode(7)\n",
            "Found it steps: 12\n",
            "TreeNode(8)\n",
            "Found it steps: 17\n",
            "TreeNode(9)\n",
            "Didn't find it steps: 7\n",
            "None\n"
          ],
          "name": "stdout"
        }
      ]
    },
    {
      "cell_type": "code",
      "metadata": {
        "colab": {
          "base_uri": "https://localhost:8080/"
        },
        "id": "3hOSjvmKfc_7",
        "outputId": "1459cf91-b358-496d-a5ce-51b1ce35b602"
      },
      "source": [
        "# Recursion YAY!\n",
        "\n",
        "class ListNode:\n",
        "    def __init__(self, value):\n",
        "        self.value = value\n",
        "        self.next = None\n",
        "\n",
        "head = ListNode(1)\n",
        "head.next = ListNode(2)\n",
        "head.next.next = ListNode(3)\n",
        "head.next.next.next = ListNode(4)\n",
        "head.next.next.next.next = ListNode(5)\n",
        "\n",
        "def list_len_iterative(head):\n",
        "    # Non-recursive, \"iterative\"\n",
        "    count = 0\n",
        "    cur = head\n",
        "    while cur is not None:\n",
        "        count += 1\n",
        "        cur = cur.next\n",
        "\n",
        "    return count\n",
        "\n",
        "def list_len(a):\n",
        "    # len_list(None): 0\n",
        "    # len_list(a): 1 + len_list(a.next)\n",
        "    \n",
        "    if a is None:\n",
        "        return 0\n",
        "\n",
        "    return 1 + list_len(a.next)\n",
        "\n",
        "print(list_len(head))\n",
        "\n"
      ],
      "execution_count": null,
      "outputs": [
        {
          "output_type": "stream",
          "text": [
            "5\n"
          ],
          "name": "stdout"
        }
      ]
    },
    {
      "cell_type": "code",
      "metadata": {
        "colab": {
          "base_uri": "https://localhost:8080/"
        },
        "id": "q9xT9gLygFE5",
        "outputId": "a55b1c07-abb7-4e21-e4b4-e190b7050b0a"
      },
      "source": [
        "# Max depth of BST\n",
        "\n",
        "# depth(None): 0\n",
        "# depth(a): 1 + max(depth(a.left), depth(a.right))\n",
        "\n",
        "def depth(a):\n",
        "    if a is None:\n",
        "        return 0\n",
        "\n",
        "    return 1 + max(depth(a.left), depth(a.right))\n",
        "\n",
        "print(depth(bst.root))"
      ],
      "execution_count": null,
      "outputs": [
        {
          "output_type": "stream",
          "text": [
            "41\n"
          ],
          "name": "stdout"
        }
      ]
    }
  ]
}